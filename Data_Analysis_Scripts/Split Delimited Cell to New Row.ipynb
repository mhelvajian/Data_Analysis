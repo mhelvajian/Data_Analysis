{
 "cells": [
  {
   "cell_type": "code",
   "execution_count": 1,
   "id": "0c25b0a5",
   "metadata": {},
   "outputs": [
    {
     "ename": "NameError",
     "evalue": "name 'pd' is not defined",
     "output_type": "error",
     "traceback": [
      "\u001b[0;31m---------------------------------------------------------------------------\u001b[0m",
      "\u001b[0;31mNameError\u001b[0m                                 Traceback (most recent call last)",
      "Input \u001b[0;32mIn [1]\u001b[0m, in \u001b[0;36m<cell line: 4>\u001b[0;34m()\u001b[0m\n\u001b[1;32m      1\u001b[0m \u001b[38;5;66;03m# This script splits a comma-delimited cell (in this case Column2) and places the contents\u001b[39;00m\n\u001b[1;32m      2\u001b[0m \u001b[38;5;66;03m# of the cell on to a new row while copying the first and remaining column values to the new row.\u001b[39;00m\n\u001b[0;32m----> 4\u001b[0m df \u001b[38;5;241m=\u001b[39m \u001b[43mpd\u001b[49m\u001b[38;5;241m.\u001b[39mread_csv(\u001b[38;5;124mr\u001b[39m\u001b[38;5;124m'\u001b[39m\u001b[38;5;124m/FILEPATH/Filename.csv\u001b[39m\u001b[38;5;124m'\u001b[39m,dtype\u001b[38;5;241m=\u001b[39m{\u001b[38;5;124m'\u001b[39m\u001b[38;5;124mlocationid\u001b[39m\u001b[38;5;124m'\u001b[39m:np\u001b[38;5;241m.\u001b[39mint64}, low_memory\u001b[38;5;241m=\u001b[39m\u001b[38;5;28;01mFalse\u001b[39;00m)\n\u001b[1;32m      6\u001b[0m df \u001b[38;5;241m=\u001b[39m pd\u001b[38;5;241m.\u001b[39mDataFrame(df)\n\u001b[1;32m      8\u001b[0m \u001b[38;5;66;03m# Create a new DataFrame to store the results.\u001b[39;00m\n",
      "\u001b[0;31mNameError\u001b[0m: name 'pd' is not defined"
     ]
    }
   ],
   "source": [
    "# This script splits a comma-delimited cell (in this case Column2) and places the contents\n",
    "# of the cell on to a new row while copying the first and remaining column values to the new row.\n",
    "# We'd do this when Column1 represents a grouping for the values in Column2. For example, \n",
    "# \"Blue Dress\" in Column1 and \"Red, Blue, Yellow\" in Column2. \n",
    "# Since all of the colors of the dress should have the same remaining values in the other columns then\n",
    "# We copy the values forward. \n",
    "\n",
    "df = pd.read_csv(r'/FILEPATH/Filename.csv',dtype={'locationid':np.int64}, low_memory=False)\n",
    "\n",
    "df = pd.DataFrame(df)\n",
    "\n",
    "# Create a new DataFrame to store the results.\n",
    "new_rows = []\n",
    "\n",
    "# Iterate through the original DataFrame\n",
    "for index, row in df.iterrows():\n",
    "    products = row['Column2'].split(', ')\n",
    "    if len(products) > 1:\n",
    "        # If the values are comma-delimited, split them and create new rows\n",
    "        for product in products:\n",
    "            new_row = [row['Column1'], product] + list(row[2:])\n",
    "            new_rows.append(new_row)\n",
    "    else:\n",
    "        # If there's only one product, keep the original row as is\n",
    "        new_rows.append(list(row))\n",
    "\n",
    "# Create a new DataFrame with the modified rows\n",
    "new_df = pd.DataFrame(new_rows, columns=df.columns)\n",
    "\n",
    "# Display the result\n",
    "print(new_df)\n",
    "\n",
    "# Extract resulting output to .csv\n",
    "new_df.to_csv(r'/FILEPATH/Filename.csv')"
   ]
  },
  {
   "cell_type": "code",
   "execution_count": null,
   "id": "ccd34f10",
   "metadata": {},
   "outputs": [],
   "source": []
  }
 ],
 "metadata": {
  "kernelspec": {
   "display_name": "Python 3 (ipykernel)",
   "language": "python",
   "name": "python3"
  },
  "language_info": {
   "codemirror_mode": {
    "name": "ipython",
    "version": 3
   },
   "file_extension": ".py",
   "mimetype": "text/x-python",
   "name": "python",
   "nbconvert_exporter": "python",
   "pygments_lexer": "ipython3",
   "version": "3.9.12"
  }
 },
 "nbformat": 4,
 "nbformat_minor": 5
}
