{
 "cells": [
  {
   "cell_type": "code",
   "execution_count": null,
   "id": "ae57088c",
   "metadata": {},
   "outputs": [],
   "source": [
    "# This script finds all the values for each column in a data frame and \n",
    "# lists the found values and their counts in a 3 column .csv output saying \n",
    "# the source of the value, the value, and the count of that value. \n",
    "\n",
    "\n",
    "df = pd.read_csv(r'/FILEPATH/Filename.csv',dtype={'locationid':np.int64}, low_memory=False)\n",
    "df = pd.DataFrame(df)\n",
    "\n",
    "\n",
    "# Create an empty DataFrame to store the value counts\n",
    "valuecount = pd.DataFrame(columns=[\"Source_Column\",\"Value\", \"Count\"])\n",
    "\n",
    "# Iterate through the columns in df excluding the first column. \n",
    "for column in df.columns[1:]:\n",
    "    # Get the value counts for the current column\n",
    "    value_counts = df[column].value_counts()\n",
    "    \n",
    "    # Create a DataFrame from the value counts\n",
    "    value_counts_df = pd.DataFrame({\"Value\": value_counts.index, \"Count\": value_counts.values, \"Source_Column\": column})\n",
    "    \n",
    "    # Concatenate the value counts DataFrame to the main valuecount DataFrame\n",
    "    valuecount = pd.concat([valuecount, value_counts_df], ignore_index=True)\n",
    "\n",
    "# Sort the valuecount DataFrame by \"Value\"\n",
    "valuecount = valuecount.sort_values(by=\"Value\")\n",
    "\n",
    "# Reset the index of the final DataFrame\n",
    "valuecount = valuecount.reset_index(drop=True)\n",
    "\n",
    "print(valuecount)\n",
    "\n",
    "# Extract resulting output to .csv\n",
    "valuecount.to_csv(r'/FILEPATH/Filename.csv')"
   ]
  }
 ],
 "metadata": {
  "kernelspec": {
   "display_name": "Python 3 (ipykernel)",
   "language": "python",
   "name": "python3"
  },
  "language_info": {
   "codemirror_mode": {
    "name": "ipython",
    "version": 3
   },
   "file_extension": ".py",
   "mimetype": "text/x-python",
   "name": "python",
   "nbconvert_exporter": "python",
   "pygments_lexer": "ipython3",
   "version": "3.9.12"
  }
 },
 "nbformat": 4,
 "nbformat_minor": 5
}
